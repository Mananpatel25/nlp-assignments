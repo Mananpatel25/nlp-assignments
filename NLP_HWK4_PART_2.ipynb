{
  "cells": [
    {
      "cell_type": "markdown",
      "metadata": {
        "id": "view-in-github",
        "colab_type": "text"
      },
      "source": [
        "<a href=\"https://colab.research.google.com/github/Mananpatel25/nlp-assignments/blob/main/NLP_HWK4_PART_2.ipynb\" target=\"_parent\"><img src=\"https://colab.research.google.com/assets/colab-badge.svg\" alt=\"Open In Colab\"/></a>"
      ]
    },
    {
      "cell_type": "code",
      "source": [
        "import os\n",
        "import zipfile\n",
        "import numpy as np\n",
        "import tensorflow as tf\n",
        "from tensorflow import keras\n",
        "from tensorflow.keras.preprocessing.text import Tokenizer\n",
        "from tensorflow.keras.preprocessing.sequence import pad_sequences\n",
        "from sklearn.preprocessing import LabelEncoder\n",
        "from sklearn.metrics import classification_report\n",
        "\n",
        "# Extracted dataset\n",
        "train_zip_path = '/content/20news-bydate-train.zip'\n",
        "test_zip_path = '/content/20news-bydate-test.zip'\n",
        "train_extract_path = '/content/20news_train'\n",
        "test_extract_path = '/content/20news_test'\n",
        "\n",
        "with zipfile.ZipFile(train_zip_path, 'r') as zip_ref:\n",
        "    zip_ref.extractall(train_extract_path)\n",
        "with zipfile.ZipFile(test_zip_path, 'r') as zip_ref:\n",
        "    zip_ref.extractall(test_extract_path)\n",
        "\n",
        "# Load data\n",
        "def load_data(base_path):\n",
        "    texts, labels = [], []\n",
        "    for category in sorted(os.listdir(base_path)):\n",
        "        category_path = os.path.join(base_path, category)\n",
        "        if os.path.isdir(category_path):\n",
        "            for filename in os.listdir(category_path):\n",
        "                file_path = os.path.join(category_path, filename)\n",
        "                with open(file_path, 'r', encoding='latin-1') as file:\n",
        "                    texts.append(file.read())\n",
        "                    labels.append(category)\n",
        "    return texts, labels\n",
        "\n",
        "train_texts, train_labels = load_data(os.path.join(train_extract_path, '20news-bydate-train'))\n",
        "test_texts, test_labels = load_data(os.path.join(test_extract_path, '20news-bydate-test'))\n",
        "\n",
        "# Encoded labels\n",
        "label_encoder = LabelEncoder()\n",
        "train_labels_encoded = label_encoder.fit_transform(train_labels)\n",
        "test_labels_encoded = label_encoder.transform(test_labels)\n",
        "num_classes = len(label_encoder.classes_)\n",
        "\n",
        "# Tokenized and padded sequences\n",
        "tokenizer = Tokenizer(num_words=20000, oov_token=\"<OOV>\")\n",
        "tokenizer.fit_on_texts(train_texts)\n",
        "train_sequences = tokenizer.texts_to_sequences(train_texts)\n",
        "test_sequences = tokenizer.texts_to_sequences(test_texts)\n",
        "max_length = 500\n",
        "train_padded = pad_sequences(train_sequences, maxlen=max_length, padding='post', truncating='post')\n",
        "test_padded = pad_sequences(test_sequences, maxlen=max_length, padding='post', truncating='post')\n",
        "\n",
        "# Built CNN Model\n",
        "model = keras.Sequential([\n",
        "    keras.layers.Embedding(input_dim=20000, output_dim=128, input_length=max_length),\n",
        "    keras.layers.Conv1D(filters=128, kernel_size=5, activation='relu'),\n",
        "    keras.layers.GlobalMaxPooling1D(),\n",
        "    keras.layers.Dense(128, activation='relu'),\n",
        "    keras.layers.Dense(num_classes, activation='softmax')\n",
        "])\n",
        "\n",
        "model.compile(loss='sparse_categorical_crossentropy', optimizer='adam', metrics=['accuracy'])\n",
        "\n",
        "# Trained model\n",
        "model.fit(train_padded, train_labels_encoded, epochs=5, batch_size=32, validation_data=(test_padded, test_labels_encoded))\n",
        "\n",
        "# Predicted on test set\n",
        "y_pred = np.argmax(model.predict(test_padded), axis=1)\n",
        "\n",
        "# Classification report\n",
        "print(classification_report(test_labels_encoded, y_pred, target_names=label_encoder.classes_))\n"
      ],
      "metadata": {
        "id": "6uxcimDXy0bG",
        "colab": {
          "base_uri": "https://localhost:8080/"
        },
        "outputId": "40908da3-d499-4450-b0b8-cfde763bbec4"
      },
      "execution_count": 1,
      "outputs": [
        {
          "output_type": "stream",
          "name": "stdout",
          "text": [
            "Epoch 1/5\n"
          ]
        },
        {
          "output_type": "stream",
          "name": "stderr",
          "text": [
            "/usr/local/lib/python3.11/dist-packages/keras/src/layers/core/embedding.py:90: UserWarning: Argument `input_length` is deprecated. Just remove it.\n",
            "  warnings.warn(\n"
          ]
        },
        {
          "output_type": "stream",
          "name": "stdout",
          "text": [
            "\u001b[1m354/354\u001b[0m \u001b[32m━━━━━━━━━━━━━━━━━━━━\u001b[0m\u001b[37m\u001b[0m \u001b[1m89s\u001b[0m 245ms/step - accuracy: 0.2405 - loss: 2.5925 - val_accuracy: 0.7076 - val_loss: 1.0398\n",
            "Epoch 2/5\n",
            "\u001b[1m354/354\u001b[0m \u001b[32m━━━━━━━━━━━━━━━━━━━━\u001b[0m\u001b[37m\u001b[0m \u001b[1m140s\u001b[0m 241ms/step - accuracy: 0.8844 - loss: 0.4563 - val_accuracy: 0.7975 - val_loss: 0.7166\n",
            "Epoch 3/5\n",
            "\u001b[1m354/354\u001b[0m \u001b[32m━━━━━━━━━━━━━━━━━━━━\u001b[0m\u001b[37m\u001b[0m \u001b[1m132s\u001b[0m 212ms/step - accuracy: 0.9892 - loss: 0.0670 - val_accuracy: 0.8172 - val_loss: 0.6754\n",
            "Epoch 4/5\n",
            "\u001b[1m354/354\u001b[0m \u001b[32m━━━━━━━━━━━━━━━━━━━━\u001b[0m\u001b[37m\u001b[0m \u001b[1m91s\u001b[0m 239ms/step - accuracy: 0.9989 - loss: 0.0146 - val_accuracy: 0.8205 - val_loss: 0.6827\n",
            "Epoch 5/5\n",
            "\u001b[1m354/354\u001b[0m \u001b[32m━━━━━━━━━━━━━━━━━━━━\u001b[0m\u001b[37m\u001b[0m \u001b[1m142s\u001b[0m 239ms/step - accuracy: 0.9988 - loss: 0.0102 - val_accuracy: 0.8165 - val_loss: 0.7203\n",
            "\u001b[1m236/236\u001b[0m \u001b[32m━━━━━━━━━━━━━━━━━━━━\u001b[0m\u001b[37m\u001b[0m \u001b[1m11s\u001b[0m 48ms/step\n",
            "                          precision    recall  f1-score   support\n",
            "\n",
            "             alt.atheism       0.83      0.76      0.79       319\n",
            "           comp.graphics       0.88      0.61      0.72       389\n",
            " comp.os.ms-windows.misc       0.74      0.78      0.76       394\n",
            "comp.sys.ibm.pc.hardware       0.59      0.81      0.68       392\n",
            "   comp.sys.mac.hardware       0.77      0.83      0.80       385\n",
            "          comp.windows.x       0.87      0.80      0.83       395\n",
            "            misc.forsale       0.79      0.86      0.82       390\n",
            "               rec.autos       0.81      0.84      0.83       396\n",
            "         rec.motorcycles       0.90      0.93      0.92       398\n",
            "      rec.sport.baseball       0.88      0.91      0.90       397\n",
            "        rec.sport.hockey       0.95      0.91      0.93       399\n",
            "               sci.crypt       0.91      0.89      0.90       396\n",
            "         sci.electronics       0.71      0.70      0.71       393\n",
            "                 sci.med       0.87      0.79      0.83       396\n",
            "               sci.space       0.91      0.91      0.91       394\n",
            "  soc.religion.christian       0.84      0.93      0.89       398\n",
            "      talk.politics.guns       0.73      0.89      0.80       364\n",
            "   talk.politics.mideast       0.98      0.80      0.88       376\n",
            "      talk.politics.misc       0.74      0.60      0.66       310\n",
            "      talk.religion.misc       0.69      0.64      0.66       251\n",
            "\n",
            "                accuracy                           0.82      7532\n",
            "               macro avg       0.82      0.81      0.81      7532\n",
            "            weighted avg       0.82      0.82      0.82      7532\n",
            "\n"
          ]
        }
      ]
    },
    {
      "cell_type": "code",
      "source": [],
      "metadata": {
        "id": "uOSHTN9m2ReK"
      },
      "execution_count": null,
      "outputs": []
    }
  ],
  "metadata": {
    "colab": {
      "provenance": [],
      "authorship_tag": "ABX9TyNgi8yGrb4qJ0lLzoW2l4dm",
      "include_colab_link": true
    },
    "kernelspec": {
      "display_name": "Python 3",
      "name": "python3"
    },
    "language_info": {
      "name": "python"
    }
  },
  "nbformat": 4,
  "nbformat_minor": 0
}