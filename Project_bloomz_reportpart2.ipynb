{
  "nbformat": 4,
  "nbformat_minor": 0,
  "metadata": {
    "colab": {
      "provenance": [],
      "gpuType": "T4",
      "include_colab_link": true
    },
    "kernelspec": {
      "name": "python3",
      "display_name": "Python 3"
    },
    "language_info": {
      "name": "python"
    },
    "accelerator": "GPU",
    "widgets": {
      "application/vnd.jupyter.widget-state+json": {
        "2e0778188ef642109f1d5fb2e2777993": {
          "model_module": "@jupyter-widgets/controls",
          "model_name": "HBoxModel",
          "model_module_version": "1.5.0",
          "state": {
            "_dom_classes": [],
            "_model_module": "@jupyter-widgets/controls",
            "_model_module_version": "1.5.0",
            "_model_name": "HBoxModel",
            "_view_count": null,
            "_view_module": "@jupyter-widgets/controls",
            "_view_module_version": "1.5.0",
            "_view_name": "HBoxView",
            "box_style": "",
            "children": [
              "IPY_MODEL_bf77afc4fea946228c339172bdda1bbd",
              "IPY_MODEL_fd3072b560a34081a00aeee3135e54ff",
              "IPY_MODEL_ab529fd69f20467f8ce3ae00054f4446"
            ],
            "layout": "IPY_MODEL_a2ee53afe0104111820bd2f5b951302c"
          }
        },
        "bf77afc4fea946228c339172bdda1bbd": {
          "model_module": "@jupyter-widgets/controls",
          "model_name": "HTMLModel",
          "model_module_version": "1.5.0",
          "state": {
            "_dom_classes": [],
            "_model_module": "@jupyter-widgets/controls",
            "_model_module_version": "1.5.0",
            "_model_name": "HTMLModel",
            "_view_count": null,
            "_view_module": "@jupyter-widgets/controls",
            "_view_module_version": "1.5.0",
            "_view_name": "HTMLView",
            "description": "",
            "description_tooltip": null,
            "layout": "IPY_MODEL_9cd7ad0cc8ba47a686f0cd8e595bd6f5",
            "placeholder": "​",
            "style": "IPY_MODEL_30cfcd1983854f0fae130be9d5d8f767",
            "value": "tokenizer_config.json: 100%"
          }
        },
        "fd3072b560a34081a00aeee3135e54ff": {
          "model_module": "@jupyter-widgets/controls",
          "model_name": "FloatProgressModel",
          "model_module_version": "1.5.0",
          "state": {
            "_dom_classes": [],
            "_model_module": "@jupyter-widgets/controls",
            "_model_module_version": "1.5.0",
            "_model_name": "FloatProgressModel",
            "_view_count": null,
            "_view_module": "@jupyter-widgets/controls",
            "_view_module_version": "1.5.0",
            "_view_name": "ProgressView",
            "bar_style": "success",
            "description": "",
            "description_tooltip": null,
            "layout": "IPY_MODEL_a80ac7a61f064391b17626b00c94116c",
            "max": 199,
            "min": 0,
            "orientation": "horizontal",
            "style": "IPY_MODEL_183c5d7538084fd0b4b1c9859541c34a",
            "value": 199
          }
        },
        "ab529fd69f20467f8ce3ae00054f4446": {
          "model_module": "@jupyter-widgets/controls",
          "model_name": "HTMLModel",
          "model_module_version": "1.5.0",
          "state": {
            "_dom_classes": [],
            "_model_module": "@jupyter-widgets/controls",
            "_model_module_version": "1.5.0",
            "_model_name": "HTMLModel",
            "_view_count": null,
            "_view_module": "@jupyter-widgets/controls",
            "_view_module_version": "1.5.0",
            "_view_name": "HTMLView",
            "description": "",
            "description_tooltip": null,
            "layout": "IPY_MODEL_8b907f4de9754dbabc89c6ddd67b2e77",
            "placeholder": "​",
            "style": "IPY_MODEL_530961d17abf4662b305a6d31a5e8b55",
            "value": " 199/199 [00:00&lt;00:00, 22.4kB/s]"
          }
        },
        "a2ee53afe0104111820bd2f5b951302c": {
          "model_module": "@jupyter-widgets/base",
          "model_name": "LayoutModel",
          "model_module_version": "1.2.0",
          "state": {
            "_model_module": "@jupyter-widgets/base",
            "_model_module_version": "1.2.0",
            "_model_name": "LayoutModel",
            "_view_count": null,
            "_view_module": "@jupyter-widgets/base",
            "_view_module_version": "1.2.0",
            "_view_name": "LayoutView",
            "align_content": null,
            "align_items": null,
            "align_self": null,
            "border": null,
            "bottom": null,
            "display": null,
            "flex": null,
            "flex_flow": null,
            "grid_area": null,
            "grid_auto_columns": null,
            "grid_auto_flow": null,
            "grid_auto_rows": null,
            "grid_column": null,
            "grid_gap": null,
            "grid_row": null,
            "grid_template_areas": null,
            "grid_template_columns": null,
            "grid_template_rows": null,
            "height": null,
            "justify_content": null,
            "justify_items": null,
            "left": null,
            "margin": null,
            "max_height": null,
            "max_width": null,
            "min_height": null,
            "min_width": null,
            "object_fit": null,
            "object_position": null,
            "order": null,
            "overflow": null,
            "overflow_x": null,
            "overflow_y": null,
            "padding": null,
            "right": null,
            "top": null,
            "visibility": null,
            "width": null
          }
        },
        "9cd7ad0cc8ba47a686f0cd8e595bd6f5": {
          "model_module": "@jupyter-widgets/base",
          "model_name": "LayoutModel",
          "model_module_version": "1.2.0",
          "state": {
            "_model_module": "@jupyter-widgets/base",
            "_model_module_version": "1.2.0",
            "_model_name": "LayoutModel",
            "_view_count": null,
            "_view_module": "@jupyter-widgets/base",
            "_view_module_version": "1.2.0",
            "_view_name": "LayoutView",
            "align_content": null,
            "align_items": null,
            "align_self": null,
            "border": null,
            "bottom": null,
            "display": null,
            "flex": null,
            "flex_flow": null,
            "grid_area": null,
            "grid_auto_columns": null,
            "grid_auto_flow": null,
            "grid_auto_rows": null,
            "grid_column": null,
            "grid_gap": null,
            "grid_row": null,
            "grid_template_areas": null,
            "grid_template_columns": null,
            "grid_template_rows": null,
            "height": null,
            "justify_content": null,
            "justify_items": null,
            "left": null,
            "margin": null,
            "max_height": null,
            "max_width": null,
            "min_height": null,
            "min_width": null,
            "object_fit": null,
            "object_position": null,
            "order": null,
            "overflow": null,
            "overflow_x": null,
            "overflow_y": null,
            "padding": null,
            "right": null,
            "top": null,
            "visibility": null,
            "width": null
          }
        },
        "30cfcd1983854f0fae130be9d5d8f767": {
          "model_module": "@jupyter-widgets/controls",
          "model_name": "DescriptionStyleModel",
          "model_module_version": "1.5.0",
          "state": {
            "_model_module": "@jupyter-widgets/controls",
            "_model_module_version": "1.5.0",
            "_model_name": "DescriptionStyleModel",
            "_view_count": null,
            "_view_module": "@jupyter-widgets/base",
            "_view_module_version": "1.2.0",
            "_view_name": "StyleView",
            "description_width": ""
          }
        },
        "a80ac7a61f064391b17626b00c94116c": {
          "model_module": "@jupyter-widgets/base",
          "model_name": "LayoutModel",
          "model_module_version": "1.2.0",
          "state": {
            "_model_module": "@jupyter-widgets/base",
            "_model_module_version": "1.2.0",
            "_model_name": "LayoutModel",
            "_view_count": null,
            "_view_module": "@jupyter-widgets/base",
            "_view_module_version": "1.2.0",
            "_view_name": "LayoutView",
            "align_content": null,
            "align_items": null,
            "align_self": null,
            "border": null,
            "bottom": null,
            "display": null,
            "flex": null,
            "flex_flow": null,
            "grid_area": null,
            "grid_auto_columns": null,
            "grid_auto_flow": null,
            "grid_auto_rows": null,
            "grid_column": null,
            "grid_gap": null,
            "grid_row": null,
            "grid_template_areas": null,
            "grid_template_columns": null,
            "grid_template_rows": null,
            "height": null,
            "justify_content": null,
            "justify_items": null,
            "left": null,
            "margin": null,
            "max_height": null,
            "max_width": null,
            "min_height": null,
            "min_width": null,
            "object_fit": null,
            "object_position": null,
            "order": null,
            "overflow": null,
            "overflow_x": null,
            "overflow_y": null,
            "padding": null,
            "right": null,
            "top": null,
            "visibility": null,
            "width": null
          }
        },
        "183c5d7538084fd0b4b1c9859541c34a": {
          "model_module": "@jupyter-widgets/controls",
          "model_name": "ProgressStyleModel",
          "model_module_version": "1.5.0",
          "state": {
            "_model_module": "@jupyter-widgets/controls",
            "_model_module_version": "1.5.0",
            "_model_name": "ProgressStyleModel",
            "_view_count": null,
            "_view_module": "@jupyter-widgets/base",
            "_view_module_version": "1.2.0",
            "_view_name": "StyleView",
            "bar_color": null,
            "description_width": ""
          }
        },
        "8b907f4de9754dbabc89c6ddd67b2e77": {
          "model_module": "@jupyter-widgets/base",
          "model_name": "LayoutModel",
          "model_module_version": "1.2.0",
          "state": {
            "_model_module": "@jupyter-widgets/base",
            "_model_module_version": "1.2.0",
            "_model_name": "LayoutModel",
            "_view_count": null,
            "_view_module": "@jupyter-widgets/base",
            "_view_module_version": "1.2.0",
            "_view_name": "LayoutView",
            "align_content": null,
            "align_items": null,
            "align_self": null,
            "border": null,
            "bottom": null,
            "display": null,
            "flex": null,
            "flex_flow": null,
            "grid_area": null,
            "grid_auto_columns": null,
            "grid_auto_flow": null,
            "grid_auto_rows": null,
            "grid_column": null,
            "grid_gap": null,
            "grid_row": null,
            "grid_template_areas": null,
            "grid_template_columns": null,
            "grid_template_rows": null,
            "height": null,
            "justify_content": null,
            "justify_items": null,
            "left": null,
            "margin": null,
            "max_height": null,
            "max_width": null,
            "min_height": null,
            "min_width": null,
            "object_fit": null,
            "object_position": null,
            "order": null,
            "overflow": null,
            "overflow_x": null,
            "overflow_y": null,
            "padding": null,
            "right": null,
            "top": null,
            "visibility": null,
            "width": null
          }
        },
        "530961d17abf4662b305a6d31a5e8b55": {
          "model_module": "@jupyter-widgets/controls",
          "model_name": "DescriptionStyleModel",
          "model_module_version": "1.5.0",
          "state": {
            "_model_module": "@jupyter-widgets/controls",
            "_model_module_version": "1.5.0",
            "_model_name": "DescriptionStyleModel",
            "_view_count": null,
            "_view_module": "@jupyter-widgets/base",
            "_view_module_version": "1.2.0",
            "_view_name": "StyleView",
            "description_width": ""
          }
        },
        "1674975685aa4f3fa47ae268e2339623": {
          "model_module": "@jupyter-widgets/controls",
          "model_name": "HBoxModel",
          "model_module_version": "1.5.0",
          "state": {
            "_dom_classes": [],
            "_model_module": "@jupyter-widgets/controls",
            "_model_module_version": "1.5.0",
            "_model_name": "HBoxModel",
            "_view_count": null,
            "_view_module": "@jupyter-widgets/controls",
            "_view_module_version": "1.5.0",
            "_view_name": "HBoxView",
            "box_style": "",
            "children": [
              "IPY_MODEL_3799afd15b004b7daaa02de9c2e1c869",
              "IPY_MODEL_56fb1e3a896f46fd9541a2e6f3504418",
              "IPY_MODEL_bf789a70bc444d5a83639a1244c575c0"
            ],
            "layout": "IPY_MODEL_194d51915352494fb4936aec5c78b86a"
          }
        },
        "3799afd15b004b7daaa02de9c2e1c869": {
          "model_module": "@jupyter-widgets/controls",
          "model_name": "HTMLModel",
          "model_module_version": "1.5.0",
          "state": {
            "_dom_classes": [],
            "_model_module": "@jupyter-widgets/controls",
            "_model_module_version": "1.5.0",
            "_model_name": "HTMLModel",
            "_view_count": null,
            "_view_module": "@jupyter-widgets/controls",
            "_view_module_version": "1.5.0",
            "_view_name": "HTMLView",
            "description": "",
            "description_tooltip": null,
            "layout": "IPY_MODEL_68511489bc5447bcaf3204d9ae802a81",
            "placeholder": "​",
            "style": "IPY_MODEL_e0b13a66259549d19225d9054830edcb",
            "value": "tokenizer.json: 100%"
          }
        },
        "56fb1e3a896f46fd9541a2e6f3504418": {
          "model_module": "@jupyter-widgets/controls",
          "model_name": "FloatProgressModel",
          "model_module_version": "1.5.0",
          "state": {
            "_dom_classes": [],
            "_model_module": "@jupyter-widgets/controls",
            "_model_module_version": "1.5.0",
            "_model_name": "FloatProgressModel",
            "_view_count": null,
            "_view_module": "@jupyter-widgets/controls",
            "_view_module_version": "1.5.0",
            "_view_name": "ProgressView",
            "bar_style": "success",
            "description": "",
            "description_tooltip": null,
            "layout": "IPY_MODEL_e2163ea6886749269f05bb96f01eeb20",
            "max": 14500438,
            "min": 0,
            "orientation": "horizontal",
            "style": "IPY_MODEL_d2374f2e3df64da398973c52169bf127",
            "value": 14500438
          }
        },
        "bf789a70bc444d5a83639a1244c575c0": {
          "model_module": "@jupyter-widgets/controls",
          "model_name": "HTMLModel",
          "model_module_version": "1.5.0",
          "state": {
            "_dom_classes": [],
            "_model_module": "@jupyter-widgets/controls",
            "_model_module_version": "1.5.0",
            "_model_name": "HTMLModel",
            "_view_count": null,
            "_view_module": "@jupyter-widgets/controls",
            "_view_module_version": "1.5.0",
            "_view_name": "HTMLView",
            "description": "",
            "description_tooltip": null,
            "layout": "IPY_MODEL_d80ed6226ef84019aa2f3db6a6561906",
            "placeholder": "​",
            "style": "IPY_MODEL_91bbce4ea30d46df9d70e040b0e1d475",
            "value": " 14.5M/14.5M [00:00&lt;00:00, 24.6MB/s]"
          }
        },
        "194d51915352494fb4936aec5c78b86a": {
          "model_module": "@jupyter-widgets/base",
          "model_name": "LayoutModel",
          "model_module_version": "1.2.0",
          "state": {
            "_model_module": "@jupyter-widgets/base",
            "_model_module_version": "1.2.0",
            "_model_name": "LayoutModel",
            "_view_count": null,
            "_view_module": "@jupyter-widgets/base",
            "_view_module_version": "1.2.0",
            "_view_name": "LayoutView",
            "align_content": null,
            "align_items": null,
            "align_self": null,
            "border": null,
            "bottom": null,
            "display": null,
            "flex": null,
            "flex_flow": null,
            "grid_area": null,
            "grid_auto_columns": null,
            "grid_auto_flow": null,
            "grid_auto_rows": null,
            "grid_column": null,
            "grid_gap": null,
            "grid_row": null,
            "grid_template_areas": null,
            "grid_template_columns": null,
            "grid_template_rows": null,
            "height": null,
            "justify_content": null,
            "justify_items": null,
            "left": null,
            "margin": null,
            "max_height": null,
            "max_width": null,
            "min_height": null,
            "min_width": null,
            "object_fit": null,
            "object_position": null,
            "order": null,
            "overflow": null,
            "overflow_x": null,
            "overflow_y": null,
            "padding": null,
            "right": null,
            "top": null,
            "visibility": null,
            "width": null
          }
        },
        "68511489bc5447bcaf3204d9ae802a81": {
          "model_module": "@jupyter-widgets/base",
          "model_name": "LayoutModel",
          "model_module_version": "1.2.0",
          "state": {
            "_model_module": "@jupyter-widgets/base",
            "_model_module_version": "1.2.0",
            "_model_name": "LayoutModel",
            "_view_count": null,
            "_view_module": "@jupyter-widgets/base",
            "_view_module_version": "1.2.0",
            "_view_name": "LayoutView",
            "align_content": null,
            "align_items": null,
            "align_self": null,
            "border": null,
            "bottom": null,
            "display": null,
            "flex": null,
            "flex_flow": null,
            "grid_area": null,
            "grid_auto_columns": null,
            "grid_auto_flow": null,
            "grid_auto_rows": null,
            "grid_column": null,
            "grid_gap": null,
            "grid_row": null,
            "grid_template_areas": null,
            "grid_template_columns": null,
            "grid_template_rows": null,
            "height": null,
            "justify_content": null,
            "justify_items": null,
            "left": null,
            "margin": null,
            "max_height": null,
            "max_width": null,
            "min_height": null,
            "min_width": null,
            "object_fit": null,
            "object_position": null,
            "order": null,
            "overflow": null,
            "overflow_x": null,
            "overflow_y": null,
            "padding": null,
            "right": null,
            "top": null,
            "visibility": null,
            "width": null
          }
        },
        "e0b13a66259549d19225d9054830edcb": {
          "model_module": "@jupyter-widgets/controls",
          "model_name": "DescriptionStyleModel",
          "model_module_version": "1.5.0",
          "state": {
            "_model_module": "@jupyter-widgets/controls",
            "_model_module_version": "1.5.0",
            "_model_name": "DescriptionStyleModel",
            "_view_count": null,
            "_view_module": "@jupyter-widgets/base",
            "_view_module_version": "1.2.0",
            "_view_name": "StyleView",
            "description_width": ""
          }
        },
        "e2163ea6886749269f05bb96f01eeb20": {
          "model_module": "@jupyter-widgets/base",
          "model_name": "LayoutModel",
          "model_module_version": "1.2.0",
          "state": {
            "_model_module": "@jupyter-widgets/base",
            "_model_module_version": "1.2.0",
            "_model_name": "LayoutModel",
            "_view_count": null,
            "_view_module": "@jupyter-widgets/base",
            "_view_module_version": "1.2.0",
            "_view_name": "LayoutView",
            "align_content": null,
            "align_items": null,
            "align_self": null,
            "border": null,
            "bottom": null,
            "display": null,
            "flex": null,
            "flex_flow": null,
            "grid_area": null,
            "grid_auto_columns": null,
            "grid_auto_flow": null,
            "grid_auto_rows": null,
            "grid_column": null,
            "grid_gap": null,
            "grid_row": null,
            "grid_template_areas": null,
            "grid_template_columns": null,
            "grid_template_rows": null,
            "height": null,
            "justify_content": null,
            "justify_items": null,
            "left": null,
            "margin": null,
            "max_height": null,
            "max_width": null,
            "min_height": null,
            "min_width": null,
            "object_fit": null,
            "object_position": null,
            "order": null,
            "overflow": null,
            "overflow_x": null,
            "overflow_y": null,
            "padding": null,
            "right": null,
            "top": null,
            "visibility": null,
            "width": null
          }
        },
        "d2374f2e3df64da398973c52169bf127": {
          "model_module": "@jupyter-widgets/controls",
          "model_name": "ProgressStyleModel",
          "model_module_version": "1.5.0",
          "state": {
            "_model_module": "@jupyter-widgets/controls",
            "_model_module_version": "1.5.0",
            "_model_name": "ProgressStyleModel",
            "_view_count": null,
            "_view_module": "@jupyter-widgets/base",
            "_view_module_version": "1.2.0",
            "_view_name": "StyleView",
            "bar_color": null,
            "description_width": ""
          }
        },
        "d80ed6226ef84019aa2f3db6a6561906": {
          "model_module": "@jupyter-widgets/base",
          "model_name": "LayoutModel",
          "model_module_version": "1.2.0",
          "state": {
            "_model_module": "@jupyter-widgets/base",
            "_model_module_version": "1.2.0",
            "_model_name": "LayoutModel",
            "_view_count": null,
            "_view_module": "@jupyter-widgets/base",
            "_view_module_version": "1.2.0",
            "_view_name": "LayoutView",
            "align_content": null,
            "align_items": null,
            "align_self": null,
            "border": null,
            "bottom": null,
            "display": null,
            "flex": null,
            "flex_flow": null,
            "grid_area": null,
            "grid_auto_columns": null,
            "grid_auto_flow": null,
            "grid_auto_rows": null,
            "grid_column": null,
            "grid_gap": null,
            "grid_row": null,
            "grid_template_areas": null,
            "grid_template_columns": null,
            "grid_template_rows": null,
            "height": null,
            "justify_content": null,
            "justify_items": null,
            "left": null,
            "margin": null,
            "max_height": null,
            "max_width": null,
            "min_height": null,
            "min_width": null,
            "object_fit": null,
            "object_position": null,
            "order": null,
            "overflow": null,
            "overflow_x": null,
            "overflow_y": null,
            "padding": null,
            "right": null,
            "top": null,
            "visibility": null,
            "width": null
          }
        },
        "91bbce4ea30d46df9d70e040b0e1d475": {
          "model_module": "@jupyter-widgets/controls",
          "model_name": "DescriptionStyleModel",
          "model_module_version": "1.5.0",
          "state": {
            "_model_module": "@jupyter-widgets/controls",
            "_model_module_version": "1.5.0",
            "_model_name": "DescriptionStyleModel",
            "_view_count": null,
            "_view_module": "@jupyter-widgets/base",
            "_view_module_version": "1.2.0",
            "_view_name": "StyleView",
            "description_width": ""
          }
        },
        "266451c55762472cb1092bcc3faed10c": {
          "model_module": "@jupyter-widgets/controls",
          "model_name": "HBoxModel",
          "model_module_version": "1.5.0",
          "state": {
            "_dom_classes": [],
            "_model_module": "@jupyter-widgets/controls",
            "_model_module_version": "1.5.0",
            "_model_name": "HBoxModel",
            "_view_count": null,
            "_view_module": "@jupyter-widgets/controls",
            "_view_module_version": "1.5.0",
            "_view_name": "HBoxView",
            "box_style": "",
            "children": [
              "IPY_MODEL_80ed84bb3a3b4365a391677dc709fccb",
              "IPY_MODEL_b4fcf2f040b745bb8f35a126e6665ff4",
              "IPY_MODEL_cf583f413957483e9c2de3aa9ea735a6"
            ],
            "layout": "IPY_MODEL_df93f37b3384499a827feebe048d096b"
          }
        },
        "80ed84bb3a3b4365a391677dc709fccb": {
          "model_module": "@jupyter-widgets/controls",
          "model_name": "HTMLModel",
          "model_module_version": "1.5.0",
          "state": {
            "_dom_classes": [],
            "_model_module": "@jupyter-widgets/controls",
            "_model_module_version": "1.5.0",
            "_model_name": "HTMLModel",
            "_view_count": null,
            "_view_module": "@jupyter-widgets/controls",
            "_view_module_version": "1.5.0",
            "_view_name": "HTMLView",
            "description": "",
            "description_tooltip": null,
            "layout": "IPY_MODEL_bcd37dcaca3346ad895ea0e8cd508693",
            "placeholder": "​",
            "style": "IPY_MODEL_894dc97b889e43fc945cafb2f6706c82",
            "value": "special_tokens_map.json: 100%"
          }
        },
        "b4fcf2f040b745bb8f35a126e6665ff4": {
          "model_module": "@jupyter-widgets/controls",
          "model_name": "FloatProgressModel",
          "model_module_version": "1.5.0",
          "state": {
            "_dom_classes": [],
            "_model_module": "@jupyter-widgets/controls",
            "_model_module_version": "1.5.0",
            "_model_name": "FloatProgressModel",
            "_view_count": null,
            "_view_module": "@jupyter-widgets/controls",
            "_view_module_version": "1.5.0",
            "_view_name": "ProgressView",
            "bar_style": "success",
            "description": "",
            "description_tooltip": null,
            "layout": "IPY_MODEL_ab9566ff80954bd9a30eada16846cfe0",
            "max": 85,
            "min": 0,
            "orientation": "horizontal",
            "style": "IPY_MODEL_3ffefa17ca9f4190add0194589f16d89",
            "value": 85
          }
        },
        "cf583f413957483e9c2de3aa9ea735a6": {
          "model_module": "@jupyter-widgets/controls",
          "model_name": "HTMLModel",
          "model_module_version": "1.5.0",
          "state": {
            "_dom_classes": [],
            "_model_module": "@jupyter-widgets/controls",
            "_model_module_version": "1.5.0",
            "_model_name": "HTMLModel",
            "_view_count": null,
            "_view_module": "@jupyter-widgets/controls",
            "_view_module_version": "1.5.0",
            "_view_name": "HTMLView",
            "description": "",
            "description_tooltip": null,
            "layout": "IPY_MODEL_fe4fd6e86edf416e98c8f2faaa100b1d",
            "placeholder": "​",
            "style": "IPY_MODEL_556727303e6941aeb109a2bbdb7c8e2b",
            "value": " 85.0/85.0 [00:00&lt;00:00, 9.20kB/s]"
          }
        },
        "df93f37b3384499a827feebe048d096b": {
          "model_module": "@jupyter-widgets/base",
          "model_name": "LayoutModel",
          "model_module_version": "1.2.0",
          "state": {
            "_model_module": "@jupyter-widgets/base",
            "_model_module_version": "1.2.0",
            "_model_name": "LayoutModel",
            "_view_count": null,
            "_view_module": "@jupyter-widgets/base",
            "_view_module_version": "1.2.0",
            "_view_name": "LayoutView",
            "align_content": null,
            "align_items": null,
            "align_self": null,
            "border": null,
            "bottom": null,
            "display": null,
            "flex": null,
            "flex_flow": null,
            "grid_area": null,
            "grid_auto_columns": null,
            "grid_auto_flow": null,
            "grid_auto_rows": null,
            "grid_column": null,
            "grid_gap": null,
            "grid_row": null,
            "grid_template_areas": null,
            "grid_template_columns": null,
            "grid_template_rows": null,
            "height": null,
            "justify_content": null,
            "justify_items": null,
            "left": null,
            "margin": null,
            "max_height": null,
            "max_width": null,
            "min_height": null,
            "min_width": null,
            "object_fit": null,
            "object_position": null,
            "order": null,
            "overflow": null,
            "overflow_x": null,
            "overflow_y": null,
            "padding": null,
            "right": null,
            "top": null,
            "visibility": null,
            "width": null
          }
        },
        "bcd37dcaca3346ad895ea0e8cd508693": {
          "model_module": "@jupyter-widgets/base",
          "model_name": "LayoutModel",
          "model_module_version": "1.2.0",
          "state": {
            "_model_module": "@jupyter-widgets/base",
            "_model_module_version": "1.2.0",
            "_model_name": "LayoutModel",
            "_view_count": null,
            "_view_module": "@jupyter-widgets/base",
            "_view_module_version": "1.2.0",
            "_view_name": "LayoutView",
            "align_content": null,
            "align_items": null,
            "align_self": null,
            "border": null,
            "bottom": null,
            "display": null,
            "flex": null,
            "flex_flow": null,
            "grid_area": null,
            "grid_auto_columns": null,
            "grid_auto_flow": null,
            "grid_auto_rows": null,
            "grid_column": null,
            "grid_gap": null,
            "grid_row": null,
            "grid_template_areas": null,
            "grid_template_columns": null,
            "grid_template_rows": null,
            "height": null,
            "justify_content": null,
            "justify_items": null,
            "left": null,
            "margin": null,
            "max_height": null,
            "max_width": null,
            "min_height": null,
            "min_width": null,
            "object_fit": null,
            "object_position": null,
            "order": null,
            "overflow": null,
            "overflow_x": null,
            "overflow_y": null,
            "padding": null,
            "right": null,
            "top": null,
            "visibility": null,
            "width": null
          }
        },
        "894dc97b889e43fc945cafb2f6706c82": {
          "model_module": "@jupyter-widgets/controls",
          "model_name": "DescriptionStyleModel",
          "model_module_version": "1.5.0",
          "state": {
            "_model_module": "@jupyter-widgets/controls",
            "_model_module_version": "1.5.0",
            "_model_name": "DescriptionStyleModel",
            "_view_count": null,
            "_view_module": "@jupyter-widgets/base",
            "_view_module_version": "1.2.0",
            "_view_name": "StyleView",
            "description_width": ""
          }
        },
        "ab9566ff80954bd9a30eada16846cfe0": {
          "model_module": "@jupyter-widgets/base",
          "model_name": "LayoutModel",
          "model_module_version": "1.2.0",
          "state": {
            "_model_module": "@jupyter-widgets/base",
            "_model_module_version": "1.2.0",
            "_model_name": "LayoutModel",
            "_view_count": null,
            "_view_module": "@jupyter-widgets/base",
            "_view_module_version": "1.2.0",
            "_view_name": "LayoutView",
            "align_content": null,
            "align_items": null,
            "align_self": null,
            "border": null,
            "bottom": null,
            "display": null,
            "flex": null,
            "flex_flow": null,
            "grid_area": null,
            "grid_auto_columns": null,
            "grid_auto_flow": null,
            "grid_auto_rows": null,
            "grid_column": null,
            "grid_gap": null,
            "grid_row": null,
            "grid_template_areas": null,
            "grid_template_columns": null,
            "grid_template_rows": null,
            "height": null,
            "justify_content": null,
            "justify_items": null,
            "left": null,
            "margin": null,
            "max_height": null,
            "max_width": null,
            "min_height": null,
            "min_width": null,
            "object_fit": null,
            "object_position": null,
            "order": null,
            "overflow": null,
            "overflow_x": null,
            "overflow_y": null,
            "padding": null,
            "right": null,
            "top": null,
            "visibility": null,
            "width": null
          }
        },
        "3ffefa17ca9f4190add0194589f16d89": {
          "model_module": "@jupyter-widgets/controls",
          "model_name": "ProgressStyleModel",
          "model_module_version": "1.5.0",
          "state": {
            "_model_module": "@jupyter-widgets/controls",
            "_model_module_version": "1.5.0",
            "_model_name": "ProgressStyleModel",
            "_view_count": null,
            "_view_module": "@jupyter-widgets/base",
            "_view_module_version": "1.2.0",
            "_view_name": "StyleView",
            "bar_color": null,
            "description_width": ""
          }
        },
        "fe4fd6e86edf416e98c8f2faaa100b1d": {
          "model_module": "@jupyter-widgets/base",
          "model_name": "LayoutModel",
          "model_module_version": "1.2.0",
          "state": {
            "_model_module": "@jupyter-widgets/base",
            "_model_module_version": "1.2.0",
            "_model_name": "LayoutModel",
            "_view_count": null,
            "_view_module": "@jupyter-widgets/base",
            "_view_module_version": "1.2.0",
            "_view_name": "LayoutView",
            "align_content": null,
            "align_items": null,
            "align_self": null,
            "border": null,
            "bottom": null,
            "display": null,
            "flex": null,
            "flex_flow": null,
            "grid_area": null,
            "grid_auto_columns": null,
            "grid_auto_flow": null,
            "grid_auto_rows": null,
            "grid_column": null,
            "grid_gap": null,
            "grid_row": null,
            "grid_template_areas": null,
            "grid_template_columns": null,
            "grid_template_rows": null,
            "height": null,
            "justify_content": null,
            "justify_items": null,
            "left": null,
            "margin": null,
            "max_height": null,
            "max_width": null,
            "min_height": null,
            "min_width": null,
            "object_fit": null,
            "object_position": null,
            "order": null,
            "overflow": null,
            "overflow_x": null,
            "overflow_y": null,
            "padding": null,
            "right": null,
            "top": null,
            "visibility": null,
            "width": null
          }
        },
        "556727303e6941aeb109a2bbdb7c8e2b": {
          "model_module": "@jupyter-widgets/controls",
          "model_name": "DescriptionStyleModel",
          "model_module_version": "1.5.0",
          "state": {
            "_model_module": "@jupyter-widgets/controls",
            "_model_module_version": "1.5.0",
            "_model_name": "DescriptionStyleModel",
            "_view_count": null,
            "_view_module": "@jupyter-widgets/base",
            "_view_module_version": "1.2.0",
            "_view_name": "StyleView",
            "description_width": ""
          }
        }
      }
    }
  },
  "cells": [
    {
      "cell_type": "markdown",
      "metadata": {
        "id": "view-in-github",
        "colab_type": "text"
      },
      "source": [
        "<a href=\"https://colab.research.google.com/github/Mananpatel25/nlp-assignments/blob/main/Project_bloomz_reportpart2.ipynb\" target=\"_parent\"><img src=\"https://colab.research.google.com/assets/colab-badge.svg\" alt=\"Open In Colab\"/></a>"
      ]
    },
    {
      "cell_type": "code",
      "source": [
        "!pip install -q transformers>=4.36.0 bitsandbytes>=0.41.0 accelerate>=0.25.0 peft>=0.7.0\n",
        "!pip install -q datasets>=2.14.0 sentencepiece huggingface_hub\n",
        "!pip install -q xformers  # Additional memory optimization for Colab"
      ],
      "metadata": {
        "id": "KiJj3_QjILp3",
        "colab": {
          "base_uri": "https://localhost:8080/"
        },
        "outputId": "3634c048-c1d8-4688-ea49-892d808c93c2"
      },
      "execution_count": 1,
      "outputs": [
        {
          "output_type": "stream",
          "name": "stdout",
          "text": [
            "\u001b[31mERROR: pip's dependency resolver does not currently take into account all the packages that are installed. This behaviour is the source of the following dependency conflicts.\n",
            "gcsfs 2025.3.2 requires fsspec==2025.3.2, but you have fsspec 2024.12.0 which is incompatible.\u001b[0m\u001b[31m\n",
            "\u001b[2K   \u001b[90m━━━━━━━━━━━━━━━━━━━━━━━━━━━━━━━━━━━━━━━━\u001b[0m \u001b[32m43.4/43.4 MB\u001b[0m \u001b[31m17.9 MB/s\u001b[0m eta \u001b[36m0:00:00\u001b[0m\n",
            "\u001b[?25h"
          ]
        }
      ]
    },
    {
      "cell_type": "code",
      "source": [
        "#imported all the necessary libaries, and packages.\n",
        "import torch\n",
        "from transformers import AutoTokenizer, AutoModelForCausalLM, BitsAndBytesConfig\n",
        "from peft import PeftModel, PeftConfig\n",
        "import nltk\n",
        "import pandas as pd\n",
        "import numpy as np\n",
        "from tqdm import tqdm\n",
        "from nltk.translate.bleu_score import sentence_bleu, corpus_bleu, SmoothingFunction\n",
        "import matplotlib.pyplot as plt\n",
        "import seaborn as sns\n",
        "from sklearn.metrics.pairwise import cosine_similarity\n",
        "from sklearn.feature_extraction.text import TfidfVectorizer\n",
        "\n",
        "# Downloaded necessary NLTK data\n",
        "nltk.download('punkt')\n",
        "\n",
        "print(\"Loading the saved fine-tuned model from Google Drive...\")\n",
        "\n",
        "# Defined the model path\n",
        "model_path = \"/content/drive/MyDrive/model_outputs/final_model\"\n",
        "\n",
        "# First, loaded the base model with quantization\n",
        "quantization_config = BitsAndBytesConfig(\n",
        "    load_in_4bit=True,\n",
        "    bnb_4bit_compute_dtype=torch.bfloat16,\n",
        "    bnb_4bit_use_double_quant=True,\n",
        "    bnb_4bit_quant_type=\"nf4\"\n",
        ")\n",
        "\n",
        "# Loaded base model with the same quantization config\n",
        "print(\"Loading base model...\")\n",
        "base_model = AutoModelForCausalLM.from_pretrained(\n",
        "    \"bigscience/bloomz-3b\",\n",
        "    quantization_config=quantization_config,\n",
        "    device_map=\"auto\",\n",
        "    trust_remote_code=True\n",
        ")\n",
        "\n",
        "# Loaded the PEFT configuration\n",
        "print(\"Loading PEFT configuration...\")\n",
        "peft_config = PeftConfig.from_pretrained(model_path)\n",
        "print(f\"PEFT Config loaded. Base model: {peft_config.base_model_name_or_path}\")\n",
        "\n",
        "# Loaded the fine-tuned model, basically a peft adapter\n",
        "print(\"Applying fine-tuned adapters...\")\n",
        "model = PeftModel.from_pretrained(\n",
        "    base_model,\n",
        "    model_path,\n",
        "    device_map=\"auto\",\n",
        "    torch_dtype=torch.bfloat16\n",
        ")\n",
        "\n",
        "# Loadedd the tokenizer\n",
        "tokenizer = AutoTokenizer.from_pretrained(\"bigscience/bloomz-3b\")\n",
        "if tokenizer.pad_token is None:\n",
        "    tokenizer.pad_token = tokenizer.eos_token\n",
        "\n",
        "# Enabled model evaluation mode and caching for evaluating our loaded models\n",
        "model.eval()\n",
        "model.config.use_cache = True\n",
        "\n",
        "print(\"Model loaded successfully!\")\n",
        "\n",
        "# Tested with a simple example to verify if the model is working\n",
        "print(\"\\nTesting model with a quick example:\")\n",
        "context = \"It was a very nice party. Everyone was enjoying a lot, and I was mostly interested in the snacks.\"\n",
        "input_text = \"I decided to \"\n",
        "prompt = f\"### Context:\\n{context}\\n\\n### Input:\\n{input_text}\\n\\n### Output:\\n\"\n",
        "\n",
        "inputs = tokenizer(prompt, return_tensors='pt').to(\"cuda\")\n",
        "try:\n",
        "    with torch.no_grad():\n",
        "        output_tokens = model.generate(\n",
        "            **inputs,\n",
        "            max_new_tokens=30,\n",
        "            temperature=0.7,\n",
        "            top_p=0.9,\n",
        "            do_sample=True\n",
        "        )\n",
        "\n",
        "    generated_text = tokenizer.decode(output_tokens[0], skip_special_tokens=True)\n",
        "    print(f\"Generated text: {generated_text}\")\n",
        "    print(\"Model is working correctly!\")\n",
        "except Exception as e:\n",
        "    print(f\"Error during test generation: {e}\")\n",
        "    print(\"Please check the model loading process.\")"
      ],
      "metadata": {
        "colab": {
          "base_uri": "https://localhost:8080/",
          "height": 443,
          "referenced_widgets": [
            "2e0778188ef642109f1d5fb2e2777993",
            "bf77afc4fea946228c339172bdda1bbd",
            "fd3072b560a34081a00aeee3135e54ff",
            "ab529fd69f20467f8ce3ae00054f4446",
            "a2ee53afe0104111820bd2f5b951302c",
            "9cd7ad0cc8ba47a686f0cd8e595bd6f5",
            "30cfcd1983854f0fae130be9d5d8f767",
            "a80ac7a61f064391b17626b00c94116c",
            "183c5d7538084fd0b4b1c9859541c34a",
            "8b907f4de9754dbabc89c6ddd67b2e77",
            "530961d17abf4662b305a6d31a5e8b55",
            "1674975685aa4f3fa47ae268e2339623",
            "3799afd15b004b7daaa02de9c2e1c869",
            "56fb1e3a896f46fd9541a2e6f3504418",
            "bf789a70bc444d5a83639a1244c575c0",
            "194d51915352494fb4936aec5c78b86a",
            "68511489bc5447bcaf3204d9ae802a81",
            "e0b13a66259549d19225d9054830edcb",
            "e2163ea6886749269f05bb96f01eeb20",
            "d2374f2e3df64da398973c52169bf127",
            "d80ed6226ef84019aa2f3db6a6561906",
            "91bbce4ea30d46df9d70e040b0e1d475",
            "266451c55762472cb1092bcc3faed10c",
            "80ed84bb3a3b4365a391677dc709fccb",
            "b4fcf2f040b745bb8f35a126e6665ff4",
            "cf583f413957483e9c2de3aa9ea735a6",
            "df93f37b3384499a827feebe048d096b",
            "bcd37dcaca3346ad895ea0e8cd508693",
            "894dc97b889e43fc945cafb2f6706c82",
            "ab9566ff80954bd9a30eada16846cfe0",
            "3ffefa17ca9f4190add0194589f16d89",
            "fe4fd6e86edf416e98c8f2faaa100b1d",
            "556727303e6941aeb109a2bbdb7c8e2b"
          ]
        },
        "id": "wE0hB_VlIPxW",
        "outputId": "69092159-09d2-457b-9468-d82a0241538d"
      },
      "execution_count": 5,
      "outputs": [
        {
          "output_type": "stream",
          "name": "stderr",
          "text": [
            "[nltk_data] Downloading package punkt to /root/nltk_data...\n",
            "[nltk_data]   Package punkt is already up-to-date!\n"
          ]
        },
        {
          "output_type": "stream",
          "name": "stdout",
          "text": [
            "Loading the saved fine-tuned model from Google Drive...\n",
            "Loading base model...\n",
            "Loading PEFT configuration...\n",
            "PEFT Config loaded. Base model: bigscience/bloomz-3b\n",
            "Applying fine-tuned adapters...\n"
          ]
        },
        {
          "output_type": "display_data",
          "data": {
            "text/plain": [
              "tokenizer_config.json:   0%|          | 0.00/199 [00:00<?, ?B/s]"
            ],
            "application/vnd.jupyter.widget-view+json": {
              "version_major": 2,
              "version_minor": 0,
              "model_id": "2e0778188ef642109f1d5fb2e2777993"
            }
          },
          "metadata": {}
        },
        {
          "output_type": "display_data",
          "data": {
            "text/plain": [
              "tokenizer.json:   0%|          | 0.00/14.5M [00:00<?, ?B/s]"
            ],
            "application/vnd.jupyter.widget-view+json": {
              "version_major": 2,
              "version_minor": 0,
              "model_id": "1674975685aa4f3fa47ae268e2339623"
            }
          },
          "metadata": {}
        },
        {
          "output_type": "display_data",
          "data": {
            "text/plain": [
              "special_tokens_map.json:   0%|          | 0.00/85.0 [00:00<?, ?B/s]"
            ],
            "application/vnd.jupyter.widget-view+json": {
              "version_major": 2,
              "version_minor": 0,
              "model_id": "266451c55762472cb1092bcc3faed10c"
            }
          },
          "metadata": {}
        },
        {
          "output_type": "stream",
          "name": "stdout",
          "text": [
            "Model loaded successfully!\n",
            "\n",
            "Testing model with a quick example:\n",
            "Generated text: ### Context:\n",
            "It was a very nice party. Everyone was enjoying a lot, and I was mostly interested in the snacks.\n",
            "\n",
            "### Input:\n",
            "I decided to \n",
            "\n",
            "### Output:\n",
            "I decided to make some of them at home. The narrator describes how he and his wife met at the party. They got to know each other\n",
            "Model is working correctly!\n"
          ]
        }
      ]
    },
    {
      "cell_type": "code",
      "source": [
        "\n",
        "# Function to preprocess text for BLEU calculation\n",
        "def preprocess_text(text):\n",
        "    # Converted to lowercase and then tokenize\n",
        "    return nltk.word_tokenize(text.lower())\n",
        "\n",
        "# Function to calculate BLEU score for a single prediction\n",
        "def calculate_single_bleu(reference, candidate):\n",
        "    reference_tokens = [preprocess_text(reference)]  # BLEU expects a list of references\n",
        "    candidate_tokens = preprocess_text(candidate)\n",
        "\n",
        "    # Defined smoothing function to handle zero counts\n",
        "    smoothie = SmoothingFunction().method1\n",
        "\n",
        "    # Calculated BLEU scores with different n-gram weights\n",
        "    bleu1 = sentence_bleu(reference_tokens, candidate_tokens, weights=(1, 0, 0, 0), smoothing_function=smoothie)\n",
        "    bleu2 = sentence_bleu(reference_tokens, candidate_tokens, weights=(0.5, 0.5, 0, 0), smoothing_function=smoothie)\n",
        "    bleu3 = sentence_bleu(reference_tokens, candidate_tokens, weights=(0.33, 0.33, 0.33, 0), smoothing_function=smoothie)\n",
        "    bleu4 = sentence_bleu(reference_tokens, candidate_tokens, weights=(0.25, 0.25, 0.25, 0.25), smoothing_function=smoothie)\n",
        "\n",
        "    return {\n",
        "        'bleu-1': bleu1,\n",
        "        'bleu-2': bleu2,\n",
        "        'bleu-3': bleu3,\n",
        "        'bleu-4': bleu4\n",
        "    }\n",
        "\n",
        "# Function defined to evaluate model on test set\n",
        "def evaluate_model(model, tokenizer, test_data, max_tokens=50, batch_size=5):\n",
        "    all_results = []\n",
        "\n",
        "    # Processed test data in smaller batches to avoid memory issues\n",
        "    for start_idx in tqdm(range(0, len(test_data), batch_size), desc=\"Evaluating batches\"):\n",
        "        end_idx = min(start_idx + batch_size, len(test_data))\n",
        "        batch = test_data.iloc[start_idx:end_idx]\n",
        "\n",
        "        batch_results = []\n",
        "        for i, row in batch.iterrows():\n",
        "            try:\n",
        "                context = row['context']\n",
        "                input_text = row['input']\n",
        "                reference = row['output']\n",
        "\n",
        "                # Generated prediction\n",
        "                prompt = f\"### Context:\\n{context}\\n\\n### Input:\\n{input_text}\\n\\n### Output:\\n\"\n",
        "                inputs = tokenizer(prompt, return_tensors='pt').to(\"cuda\")\n",
        "\n",
        "                # Cleared ALL CUDA cache before generation\n",
        "                torch.cuda.empty_cache()\n",
        "\n",
        "                with torch.no_grad():\n",
        "                    output_tokens = model.generate(\n",
        "                        **inputs,\n",
        "                        max_new_tokens=max_tokens,\n",
        "                        temperature=0.7,\n",
        "                        top_p=0.9,\n",
        "                        do_sample=True,\n",
        "                        num_beams=1,\n",
        "                    )\n",
        "\n",
        "                # Getting the generated text\n",
        "                generated_text = tokenizer.decode(output_tokens[0], skip_special_tokens=True)\n",
        "\n",
        "                # Extracted just the output part if possible\n",
        "                try:\n",
        "                    generated_output = generated_text.split(\"### Output:\\n\")[-1].strip()\n",
        "                except:\n",
        "                    generated_output = generated_text  # Use full text if splitting fails\n",
        "\n",
        "                bleu_scores = calculate_single_bleu(reference, generated_output)\n",
        "                result = {\n",
        "                    'context': context,\n",
        "                    'input': input_text,\n",
        "                    'reference': reference,\n",
        "                    'prediction': generated_output,\n",
        "                    'bleu-1': bleu_scores['bleu-1'],\n",
        "                    'bleu-2': bleu_scores['bleu-2'],\n",
        "                    'bleu-3': bleu_scores['bleu-3'],\n",
        "                    'bleu-4': bleu_scores['bleu-4']\n",
        "                }\n",
        "\n",
        "                batch_results.append(result)\n",
        "            except Exception as e:\n",
        "                print(f\"Error processing example {i}: {e}\")\n",
        "                continue\n",
        "\n",
        "        # Added batch results to all results\n",
        "        all_results.extend(batch_results)\n",
        "\n",
        "        # Saved intermediate results after each batch\n",
        "        if len(all_results) % (5 * batch_size) == 0:\n",
        "            intermediate_df = pd.DataFrame(all_results)\n",
        "            intermediate_df.to_csv(f\"/content/drive/MyDrive/model_outputs/bleu_results_intermediate_{len(all_results)}.csv\", index=False)\n",
        "            print(f\"Saved intermediate results with {len(all_results)} examples\")\n",
        "\n",
        "\n",
        "    results_df = pd.DataFrame(all_results)\n",
        "\n",
        "    # Calculated average BLEU scores\n",
        "    avg_bleu1 = results_df['bleu-1'].mean()\n",
        "    avg_bleu2 = results_df['bleu-2'].mean()\n",
        "    avg_bleu3 = results_df['bleu-3'].mean()\n",
        "    avg_bleu4 = results_df['bleu-4'].mean()\n",
        "\n",
        "    print(f\"\\nAverage BLEU-1: {avg_bleu1:.4f}\")\n",
        "    print(f\"Average BLEU-2: {avg_bleu2:.4f}\")\n",
        "    print(f\"Average BLEU-3: {avg_bleu3:.4f}\")\n",
        "    print(f\"Average BLEU-4: {avg_bleu4:.4f}\")\n",
        "\n",
        "    return results_df\n",
        "\n",
        "# Function written to display examples\n",
        "def display_examples(results_df, score_column='bleu-4', n=3, highest=True):\n",
        "    \"\"\"Display top or bottom n examples based on score\"\"\"\n",
        "    if highest:\n",
        "        examples = results_df.nlargest(n, score_column)\n",
        "        print(f\"\\n=== {n} Examples with HIGHEST {score_column} scores ===\")\n",
        "    else:\n",
        "        examples = results_df.nsmallest(n, score_column)\n",
        "        print(f\"\\n=== {n} Examples with LOWEST {score_column} scores ===\")\n",
        "\n",
        "    for i, (_, example) in enumerate(examples.iterrows()):\n",
        "        print(f\"\\nExample {i+1} - {score_column}: {example[score_column]:.4f}\")\n",
        "        print(f\"Context: {example['context']}\")\n",
        "        print(f\"Input: {example['input']}\")\n",
        "        print(f\"Reference: {example['reference']}\")\n",
        "        print(f\"Prediction: {example['prediction']}\")\n",
        "        print(\"-\" * 80)\n",
        "\n",
        "# Function written to calculate TF-IDF similarity\n",
        "def calculate_tfidf_similarity(results_df):\n",
        "    all_texts = list(results_df['reference']) + list(results_df['prediction'])\n",
        "\n",
        "    # Created TF-IDF vectors\n",
        "    vectorizer = TfidfVectorizer()\n",
        "    tfidf_matrix = vectorizer.fit_transform(all_texts)\n",
        "\n",
        "    n = len(results_df)\n",
        "    reference_matrix = tfidf_matrix[:n]\n",
        "    prediction_matrix = tfidf_matrix[n:]\n",
        "\n",
        "    # Calculated cosine similarity for each pair\n",
        "    similarities = []\n",
        "    for i in range(n):\n",
        "        similarity = cosine_similarity(reference_matrix[i], prediction_matrix[i])[0][0]\n",
        "        similarities.append(similarity)\n",
        "    results_df['tfidf_similarity'] = similarities\n",
        "\n",
        "    print(f\"\\nAverage TF-IDF Cosine Similarity: {np.mean(similarities):.4f}\")\n",
        "    return results_df"
      ],
      "metadata": {
        "id": "pe40RNeVI3Sm"
      },
      "execution_count": 4,
      "outputs": []
    },
    {
      "cell_type": "code",
      "source": [
        "from google.colab import drive\n",
        "drive.mount('/content/drive')"
      ],
      "metadata": {
        "colab": {
          "base_uri": "https://localhost:8080/"
        },
        "id": "b5DJglUmMAh0",
        "outputId": "1817282b-2d28-487e-ae68-56268afad1fb"
      },
      "execution_count": 3,
      "outputs": [
        {
          "output_type": "stream",
          "name": "stdout",
          "text": [
            "Mounted at /content/drive\n"
          ]
        }
      ]
    },
    {
      "cell_type": "code",
      "source": [
        "# Tried to Create test set from held-out data\n",
        "try:\n",
        "    print(\"Loading original dataset...\")\n",
        "    df = pd.read_csv(\"/content/better_processed_data2.0.csv\")\n",
        "    if 'Unnamed: 0' in df.columns:\n",
        "        df.drop(['Unnamed: 0'], axis=1, inplace=True)\n",
        "    print(f\"Original dataset size: {len(df)} rows\")\n",
        "    df_shuffled = df.sample(frac=1, random_state=42).reset_index(drop=True)\n",
        "\n",
        "    test_size = min(int(0.1 * len(df_shuffled)), 100)\n",
        "    test_data = df_shuffled.iloc[:test_size]\n",
        "    print(f\"Created test set with {len(test_data)} examples\")\n",
        "\n",
        "except Exception as e:\n",
        "    print(f\"Error loading original dataset: {e}\")\n",
        "    print(\"Creating a small sample test set for evaluation...\")\n",
        "\n",
        "    test_data = pd.DataFrame([\n",
        "        {\n",
        "            'context': 'It was a very nice party. Everyone was enjoying a lot, and I was mostly interested in the snacks. But then I caught a glimpse of a suspicious man',\n",
        "            'input': 'I decided to ',\n",
        "            'output': 'follow him discreetly, keeping a distance while observing his behavior. The way he was scanning the room made me feel uneasy.'\n",
        "        },\n",
        "        {\n",
        "            'context': 'The hiking trail was steep and rocky. We had been walking for hours and were getting tired',\n",
        "            'input': 'Suddenly, we saw ',\n",
        "            'output': 'a beautiful clearing with a waterfall cascading down the mountain. The sight gave us renewed energy to continue our journey.'\n",
        "        },\n",
        "        {\n",
        "            'context': 'The detective examined the crime scene carefully. There was something odd about the arrangement of furniture',\n",
        "            'input': 'Upon closer inspection, he noticed ',\n",
        "            'output': 'that the dust pattern on the floor indicated the bookshelf had been moved recently. This could be where the suspect hid the evidence.'\n",
        "        }\n",
        "    ])\n",
        "    print(f\"Created a sample test set with {len(test_data)} examples\")"
      ],
      "metadata": {
        "id": "O3RhujkDJXFm",
        "colab": {
          "base_uri": "https://localhost:8080/"
        },
        "outputId": "765dfe05-8225-4a56-d460-10691174e04a"
      },
      "execution_count": 7,
      "outputs": [
        {
          "output_type": "stream",
          "name": "stdout",
          "text": [
            "Loading original dataset...\n",
            "Original dataset size: 7749 rows\n",
            "Created test set with 100 examples\n"
          ]
        }
      ]
    },
    {
      "cell_type": "code",
      "source": [
        "#had to download punkt tab coz punkt was deprecated\n",
        "nltk.download('punkt_tab')"
      ],
      "metadata": {
        "colab": {
          "base_uri": "https://localhost:8080/"
        },
        "id": "7FaAOejBNDPF",
        "outputId": "6dc5670e-a3a0-4512-8ac3-5e720c93532e"
      },
      "execution_count": 8,
      "outputs": [
        {
          "output_type": "stream",
          "name": "stderr",
          "text": [
            "[nltk_data] Downloading package punkt_tab to /root/nltk_data...\n",
            "[nltk_data]   Unzipping tokenizers/punkt_tab.zip.\n"
          ]
        },
        {
          "output_type": "execute_result",
          "data": {
            "text/plain": [
              "True"
            ]
          },
          "metadata": {},
          "execution_count": 8
        }
      ]
    },
    {
      "cell_type": "code",
      "source": [
        "print(\"Starting BLEU score evaluation...\")\n",
        "results = evaluate_model(model, tokenizer, test_data, max_tokens=100, batch_size=10)"
      ],
      "metadata": {
        "colab": {
          "base_uri": "https://localhost:8080/"
        },
        "id": "Y6OMqXBfNaAg",
        "outputId": "fe7136e6-9445-4130-b273-6cf06de1a426"
      },
      "execution_count": 9,
      "outputs": [
        {
          "output_type": "stream",
          "name": "stdout",
          "text": [
            "Starting BLEU score evaluation...\n"
          ]
        },
        {
          "output_type": "stream",
          "name": "stderr",
          "text": [
            "Evaluating batches:  50%|█████     | 5/10 [03:40<03:40, 44.06s/it]"
          ]
        },
        {
          "output_type": "stream",
          "name": "stdout",
          "text": [
            "Saved intermediate results with 50 examples\n"
          ]
        },
        {
          "output_type": "stream",
          "name": "stderr",
          "text": [
            "Evaluating batches: 100%|██████████| 10/10 [07:30<00:00, 45.02s/it]"
          ]
        },
        {
          "output_type": "stream",
          "name": "stdout",
          "text": [
            "Saved intermediate results with 100 examples\n",
            "\n",
            "Average BLEU-1: 0.3122\n",
            "Average BLEU-2: 0.1950\n",
            "Average BLEU-3: 0.1500\n",
            "Average BLEU-4: 0.1210\n"
          ]
        },
        {
          "output_type": "stream",
          "name": "stderr",
          "text": [
            "\n"
          ]
        }
      ]
    },
    {
      "cell_type": "code",
      "source": [
        "#final result saved in my drive\n",
        "results.to_csv(\"/content/drive/MyDrive/model_outputs/bleu_results_final.csv\", index=False)\n",
        "print(f\"Complete results saved to /content/drive/MyDrive/model_outputs/bleu_results_final.csv\")\n"
      ],
      "metadata": {
        "colab": {
          "base_uri": "https://localhost:8080/"
        },
        "id": "yrj2W6orNbcB",
        "outputId": "3efa0094-4e79-4fe4-bede-71cf4fe78643"
      },
      "execution_count": 10,
      "outputs": [
        {
          "output_type": "stream",
          "name": "stdout",
          "text": [
            "Complete results saved to /content/drive/MyDrive/model_outputs/bleu_results_final.csv\n"
          ]
        }
      ]
    },
    {
      "cell_type": "code",
      "source": [
        "# wrote plot for Visualize BLEU score distribution\n",
        "try:\n",
        "    plt.figure(figsize=(12, 8))\n",
        "\n",
        "    plt.subplot(2, 2, 1)\n",
        "    sns.histplot(results['bleu-1'], kde=True)\n",
        "    plt.title('BLEU-1 Score Distribution')\n",
        "    plt.xlabel('BLEU-1')\n",
        "\n",
        "    plt.subplot(2, 2, 2)\n",
        "    sns.histplot(results['bleu-2'], kde=True)\n",
        "    plt.title('BLEU-2 Score Distribution')\n",
        "    plt.xlabel('BLEU-2')\n",
        "\n",
        "    plt.subplot(2, 2, 3)\n",
        "    sns.histplot(results['bleu-3'], kde=True)\n",
        "    plt.title('BLEU-3 Score Distribution')\n",
        "    plt.xlabel('BLEU-3')\n",
        "\n",
        "    plt.subplot(2, 2, 4)\n",
        "    sns.histplot(results['bleu-4'], kde=True)\n",
        "    plt.title('BLEU-4 Score Distribution')\n",
        "    plt.xlabel('BLEU-4')\n",
        "\n",
        "    plt.tight_layout()\n",
        "    plt.savefig(\"/content/drive/MyDrive/model_outputs/bleu_distributions.png\")\n",
        "    plt.show()\n",
        "except Exception as e:\n",
        "    print(f\"Error creating visualizations: {e}\")\n",
        "    print(\"Skipping visualizations, but continuing with analysis...\")"
      ],
      "metadata": {
        "colab": {
          "base_uri": "https://localhost:8080/",
          "height": 757
        },
        "id": "pQOq8fthPaxq",
        "outputId": "2cd2d730-3ddf-4a5c-9b82-6adf563b1463"
      },
      "execution_count": null,
      "outputs": [
        {
          "output_type": "display_data",
          "data": {
            "text/plain": [
              "<Figure size 1200x800 with 4 Axes>"
            ],
            "image/png": "[encoded data removed]"
          },
          "metadata": {}
        }
      ]
    },
    {
      "cell_type": "code",
      "source": [
        "#analysis\n",
        "print(\"\\nAnalyzing examples with highest and lowest BLEU scores...\")\n",
        "# Displayed examples with highest BLEU-4 scores\n",
        "display_examples(results, score_column='bleu-4', n=3, highest=True)\n",
        "\n",
        "# Displayed examples with lowest BLEU-4 scores\n",
        "display_examples(results, score_column='bleu-4', n=3, highest=False)"
      ],
      "metadata": {
        "colab": {
          "base_uri": "https://localhost:8080/"
        },
        "id": "7j44-cWcPffg",
        "outputId": "5c0fa7d4-4f8d-49c4-8b58-1379e44dbd86"
      },
      "execution_count": 11,
      "outputs": [
        {
          "output_type": "stream",
          "name": "stdout",
          "text": [
            "\n",
            "Analyzing examples with highest and lowest BLEU scores...\n",
            "\n",
            "=== 3 Examples with HIGHEST bleu-4 scores ===\n",
            "\n",
            "Example 1 - bleu-4: 0.3296\n",
            "Context: HAWK They lived by and for push buttons and machines, and knew nothing else. But Endicott remembered about the old days--when a man could save a life without a push-button...._ [Transcriber's Note: This etext was produced from Worlds of If Science Fiction, March 1955. \n",
            "Input: Extensive research did not uncover any evidence\n",
            "Reference: Extensive research did not uncover any evidence that the U.S. copyright on this publication was renewed.] When he enters the cargo hold, he finds his way onto the disabled ship. Allison asks him to open the hatch in the side of the hull so they can use the outside airship as an escape hatch. The hatch is big enough for one person to pass through at a time.\n",
            "Prediction: Extensive research did not uncover any evidence that the U.S. copyright on this publication was renewed.] When he enters the ship, the doctor tells him to push the button on the ship's second flight-ready ship until it reaches orbit. He looks at it for a moment, then puts his hand on the button again. \"It's OK,\" says the doctor.\n",
            "--------------------------------------------------------------------------------\n",
            "\n",
            "Example 2 - bleu-4: 0.2427\n",
            "Context: Little Jannita is a young girl living with Boers in Eastbourne, near the Dutch town of Kippersol. \n",
            "Input: She has a dream about being reunited\n",
            "Reference: She has a dream about being reunited with her father, who died when he was sleeping under the thorn bush. A Hottentot comes up to her and takes her away. He then carries her back to the farmhouse. The narrator gives us a brief account of the night that follows: Little Jannitita wakes up one morning and watches a wild springbuck scamper across the plain.\n",
            "Prediction: She has a dream about being reunited with her father, who is a sailor. The narrator notes that this is the first time she has ever heard anything about the mysterious death of her father. She wakes up one morning and realizes that he is dead. She quickly grabs him by the neck and kisses him.\n",
            "--------------------------------------------------------------------------------\n",
            "\n",
            "Example 3 - bleu-4: 0.1972\n",
            "Context: Rikki-tikki, the mongoose, fights with death. He nearly drowns himself in bath tubs, put his nose into ink on a writing table, and burnt it on the end of the big man's cigar. When he is defeated, he attacks Darzee, the tailor-bird's wife, who tries to stop him from eating her husband's dead baby. \n",
            "Input: The only thing that saves Teddy from\n",
            "Reference: The only thing that saves Teddy from death is a bite from a cobra. In order to protect Teddy, however, he kills one of Nag's snakes. At dinner, Teddy's mother and father tell him what to do if he runs into white men. After dinner, they all leave for their respective homes.\n",
            "Prediction: The only thing that saves Teddy from death is a big yellow bird, which is the size of a big house. In this chapter, Rikki-Tikki-Tavi learns that his life is not only short, but also uncertain. He must learn to live in the world without danger. In order to do this, he must learn to see what others cannot see.\n",
            "--------------------------------------------------------------------------------\n",
            "\n",
            "=== 3 Examples with LOWEST bleu-4 scores ===\n",
            "\n",
            "Example 1 - bleu-4: 0.0086\n",
            "Context: Adam Slade crushed the guard's skull with a two foot length of iron pipe. The guard was dead. That was important. Adam Slade had a hostage named Marcia Lawrence. She was a reporter for Interplanetary Video and she was there to cover Slade's final pre-execution interview with him. When they left the dome prison, he blasted the guards brains around the inside of his cell and marched outside with her. He grabbed her arm and pulled her away from the cliff. They walked along the edge of the cliff until they came upon a large metal tank that sat on top of a high rock. There was a helicopter hovering nearby so they could watch it go by. It went by without incident but did eventually catch up to them as they were leaving the dome. Once they reached the bottom of the hill, however, they heard a chopper coming down the side of the mountain. So they headed back to the dome in order to escape. Marcia screamed \"The cliffs!\" at every moment she expected Slade to kill her or shoot her, but he didn't. Instead, she ran into the sea. \n",
            "Input: This time, though, she saw Adam slade\n",
            "Reference: This time, though, she saw Adam slade face down in a foot of water surrounded by a thicket of boulders. As the rain began to fall, Marcia realized how frail and helpless she was and how much longer she would have to walk with Slade if he hadn't already killed her. At this point, everything seems to be going according to plan. Everything seems to work out fine until one of the men from the Helicopter shows up and says, \"Dead,\" which is what it sounds like.\n",
            "Prediction: This time, though, she saw Adam slade. They watched him do what he had to do.\n",
            "--------------------------------------------------------------------------------\n",
            "\n",
            "Example 2 - bleu-4: 0.0091\n",
            "Context: Gg and Yrl wait for the God to approach Phobos, moon of Mars. The God approaches Phobos with a crew of four called \"Fsgh\" or higher-principals. Grg is a High Priest, Yrl an Ffssgghh, or Much Higher Priest. They are excited about their trip to Mars because they have learned from their Elders and now teach their Youngers how to get rid of the itching, crawling parasitic pestilence that can sometimes fatal. As the God lands, it shoots red flame downward from its mouth on the underside of its gleaming body. This display might be disapproving communication--yet they hold their ground, knowing they have lived good lives and deserved no condemnation on any score they could imagine. It does not strike them directly, however, but rather at the side of the God's body, which has been injured by the giant bug known as \"Plllnk.\" . A tiny hole appears in the god's side. It grows larger, then drops to the surface of Phobos where it begins to crawl. \n",
            "Input: .\n",
            "Reference: . John Cotter thinks that this will be the greatest moment of his and yrl's lives. Then another God appears. This time it is one-fifth the size of Earth's God.\n",
            "Prediction: . . The God then begins to crawl back down\n",
            "\n",
            "### Input:\n",
            ". . The God then begins to crawl back down into its body.\n",
            "--------------------------------------------------------------------------------\n",
            "\n",
            "Example 3 - bleu-4: 0.0253\n",
            "Context: POPULAR STORIES BY THE BEST AUTHORS. Many of them Illustrated. Crown 8vo., cloth extra, 3s. 6d. each. By MRS. ALEXANDER. Sweet Anne Page. Transmigration. From Midnight to Midnight. The Village Comedy. You Play Me False. Antonina. Basil. Hide and Seek. Annan Water. The New Abelard. By Margaret Merryweather. Margaret and Elizabeth. Gideon Fleyce. A Woman-Hater. Various short stories by the best storytellers. \n",
            "Input: G.A.\n",
            "Reference: G.A. The Nook, Dorking, October 12, 1884. CONTENTS. Most of the stories in this volume have their germ or prime motive in some scientific or quasi-scientific idea.\n",
            "Prediction: G.A. The Story of the Village Comedy is one of the best stories in this collection. It tells the story of two friends who live in a village called St. Mary's, where they have a house called St. Mary's. Margaret Merryweather is an excellent writer of short stories, and she has written many other excellent stories. She also writes short stories about her own experiences as a village comedian.\n",
            "--------------------------------------------------------------------------------\n"
          ]
        }
      ]
    },
    {
      "cell_type": "code",
      "source": [
        "#tf idf metric\n",
        "print(\"\\nCalculating additional TF-IDF similarity metric...\")\n",
        "try:\n",
        "    enhanced_results = calculate_tfidf_similarity(results)\n",
        "    enhanced_results.to_csv(\"/content/drive/MyDrive/model_outputs/evaluation_results_enhanced.csv\", index=False)\n",
        "    print(f\"Enhanced evaluation results saved to /content/drive/MyDrive/model_outputs/evaluation_results_enhanced.csv\")\n",
        "except Exception as e:\n",
        "    print(f\"Error calculating TF-IDF similarity: {e}\")\n",
        "    print(\"Skipping TF-IDF calculation...\")"
      ],
      "metadata": {
        "colab": {
          "base_uri": "https://localhost:8080/"
        },
        "id": "HTsu7yAFPkdt",
        "outputId": "390393ad-2633-4247-d849-44755824b23e"
      },
      "execution_count": 12,
      "outputs": [
        {
          "output_type": "stream",
          "name": "stdout",
          "text": [
            "\n",
            "Calculating additional TF-IDF similarity metric...\n",
            "\n",
            "Average TF-IDF Cosine Similarity: 0.2491\n",
            "Enhanced evaluation results saved to /content/drive/MyDrive/model_outputs/evaluation_results_enhanced.csv\n"
          ]
        }
      ]
    },
    {
      "cell_type": "code",
      "source": [
        "# Generated summary report\n",
        "print(\"\\n\" + \"=\"*50)\n",
        "print(\"SUMMARY OF MODEL EVALUATION\")\n",
        "print(\"=\"*50)\n",
        "print(f\"Model path: {model_path}\")\n",
        "print(f\"Number of test examples: {len(results)}\")\n",
        "print(f\"Average BLEU-1: {results['bleu-1'].mean():.4f}\")\n",
        "print(f\"Average BLEU-2: {results['bleu-2'].mean():.4f}\")\n",
        "print(f\"Average BLEU-3: {results['bleu-3'].mean():.4f}\")\n",
        "print(f\"Average BLEU-4: {results['bleu-4'].mean():.4f}\")\n",
        "if 'tfidf_similarity' in results.columns:\n",
        "    print(f\"Average TF-IDF Similarity: {results['tfidf_similarity'].mean():.4f}\")\n",
        "print(\"=\"*50)\n",
        "print(\"All results have been saved to your Google Drive.\")\n",
        "print(\"=\"*50)"
      ],
      "metadata": {
        "colab": {
          "base_uri": "https://localhost:8080/"
        },
        "id": "RevI0hXIPwE3",
        "outputId": "dea826a2-bb46-4f97-c5aa-c9d7b1dd9ff5"
      },
      "execution_count": 13,
      "outputs": [
        {
          "output_type": "stream",
          "name": "stdout",
          "text": [
            "\n",
            "==================================================\n",
            "SUMMARY OF MODEL EVALUATION\n",
            "==================================================\n",
            "Model path: /content/drive/MyDrive/model_outputs/final_model\n",
            "Number of test examples: 100\n",
            "Average BLEU-1: 0.3122\n",
            "Average BLEU-2: 0.1950\n",
            "Average BLEU-3: 0.1500\n",
            "Average BLEU-4: 0.1210\n",
            "Average TF-IDF Similarity: 0.2491\n",
            "==================================================\n",
            "All results have been saved to your Google Drive.\n",
            "==================================================\n"
          ]
        }
      ]
    },
    {
      "cell_type": "code",
      "source": [],
      "metadata": {
        "id": "pHRLva0KP08E"
      },
      "execution_count": null,
      "outputs": []
    }
  ]
}