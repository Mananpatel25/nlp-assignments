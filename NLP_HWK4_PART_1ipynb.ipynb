{
  "nbformat": 4,
  "nbformat_minor": 0,
  "metadata": {
    "colab": {
      "provenance": [],
      "mount_file_id": "1DjELGUPCPyyjeiLSiSt4hZLZ-fXXNd-I",
      "authorship_tag": "ABX9TyNJ99lWNWSsm0i/CqCQR8Yb",
      "include_colab_link": true
    },
    "kernelspec": {
      "name": "python3",
      "display_name": "Python 3"
    },
    "language_info": {
      "name": "python"
    }
  },
  "cells": [
    {
      "cell_type": "markdown",
      "metadata": {
        "id": "view-in-github",
        "colab_type": "text"
      },
      "source": [
        "<a href=\"https://colab.research.google.com/github/Mananpatel25/nlp-assignments/blob/main/NLP_HWK4_PART_1ipynb.ipynb\" target=\"_parent\"><img src=\"https://colab.research.google.com/assets/colab-badge.svg\" alt=\"Open In Colab\"/></a>"
      ]
    },
    {
      "cell_type": "code",
      "source": [
        "import os\n",
        "import zipfile\n",
        "import numpy as np\n",
        "import pandas as pd\n",
        "from sklearn.feature_extraction.text import TfidfVectorizer\n",
        "from sklearn.naive_bayes import MultinomialNB\n",
        "from sklearn.linear_model import LogisticRegression\n",
        "from sklearn.metrics import classification_report\n",
        "from sklearn.model_selection import train_test_split\n",
        "\n",
        "# Define paths\n",
        "train_zip_path = \"/content/20news-bydate-train.zip\"\n",
        "test_zip_path = \"/content/20news-bydate-test.zip\"\n",
        "train_extract_path = \"/content/20news_train\"\n",
        "test_extract_path = \"/content/20news_test\"\n",
        "\n",
        "# Extract zip files\n",
        "def extract_zip(zip_path, extract_path):\n",
        "    with zipfile.ZipFile(zip_path, 'r') as zip_ref:\n",
        "        zip_ref.extractall(extract_path)\n",
        "\n",
        "extract_zip(train_zip_path, train_extract_path)\n",
        "extract_zip(test_zip_path, test_extract_path)\n",
        "\n",
        "# Load data\n",
        "def load_data(data_path):\n",
        "    texts, labels = [], []\n",
        "    for category in sorted(os.listdir(data_path)):\n",
        "        category_path = os.path.join(data_path, category)\n",
        "        if os.path.isdir(category_path):\n",
        "            for file_name in os.listdir(category_path):\n",
        "                file_path = os.path.join(category_path, file_name)\n",
        "                try:\n",
        "                    with open(file_path, 'r', encoding='latin1') as file:\n",
        "                        texts.append(file.read())\n",
        "                        labels.append(category)\n",
        "                except Exception as e:\n",
        "                    print(f\"Skipping {file_path} due to error: {e}\")\n",
        "    return texts, labels\n",
        "\n",
        "# Prepare training and testing data\n",
        "X_train, y_train = load_data(os.path.join(train_extract_path, \"20news-bydate-train\"))\n",
        "X_test, y_test = load_data(os.path.join(test_extract_path, \"20news-bydate-test\"))\n",
        "\n",
        "# Vectorization\n",
        "vectorizer = TfidfVectorizer(stop_words='english', max_features=5000)\n",
        "X_train_tfidf = vectorizer.fit_transform(X_train)\n",
        "X_test_tfidf = vectorizer.transform(X_test)\n",
        "\n",
        "# Train Naive Bayes Model\n",
        "nb_model = MultinomialNB()\n",
        "nb_model.fit(X_train_tfidf, y_train)\n",
        "y_pred_nb = nb_model.predict(X_test_tfidf)\n",
        "print(\"Naive Bayes Results:\")\n",
        "print(classification_report(y_test, y_pred_nb))\n",
        "\n",
        "# Train Logistic Regression Model\n",
        "lr_model = LogisticRegression(max_iter=1000)\n",
        "lr_model.fit(X_train_tfidf, y_train)\n",
        "y_pred_lr = lr_model.predict(X_test_tfidf)\n",
        "print(\"Logistic Regression Results:\")\n",
        "print(classification_report(y_test, y_pred_lr))\n"
      ],
      "metadata": {
        "id": "YrOLavMqMsbR",
        "colab": {
          "base_uri": "https://localhost:8080/"
        },
        "outputId": "450be613-4c02-4b99-cf8e-9599e1905066"
      },
      "execution_count": 6,
      "outputs": [
        {
          "output_type": "stream",
          "name": "stdout",
          "text": [
            "Naive Bayes Results:\n",
            "                          precision    recall  f1-score   support\n",
            "\n",
            "             alt.atheism       0.74      0.66      0.70       319\n",
            "           comp.graphics       0.63      0.72      0.67       389\n",
            " comp.os.ms-windows.misc       0.71      0.75      0.73       394\n",
            "comp.sys.ibm.pc.hardware       0.63      0.71      0.67       392\n",
            "   comp.sys.mac.hardware       0.79      0.76      0.78       385\n",
            "          comp.windows.x       0.79      0.75      0.77       395\n",
            "            misc.forsale       0.80      0.84      0.82       390\n",
            "               rec.autos       0.83      0.86      0.85       396\n",
            "         rec.motorcycles       0.84      0.91      0.88       398\n",
            "      rec.sport.baseball       0.90      0.90      0.90       397\n",
            "        rec.sport.hockey       0.89      0.96      0.93       399\n",
            "               sci.crypt       0.91      0.90      0.91       396\n",
            "         sci.electronics       0.73      0.61      0.66       393\n",
            "                 sci.med       0.89      0.72      0.79       396\n",
            "               sci.space       0.83      0.88      0.85       394\n",
            "  soc.religion.christian       0.67      0.94      0.78       398\n",
            "      talk.politics.guns       0.68      0.90      0.77       364\n",
            "   talk.politics.mideast       0.94      0.86      0.90       376\n",
            "      talk.politics.misc       0.84      0.51      0.63       310\n",
            "      talk.religion.misc       0.84      0.29      0.43       251\n",
            "\n",
            "                accuracy                           0.78      7532\n",
            "               macro avg       0.79      0.77      0.77      7532\n",
            "            weighted avg       0.79      0.78      0.78      7532\n",
            "\n",
            "Logistic Regression Results:\n",
            "                          precision    recall  f1-score   support\n",
            "\n",
            "             alt.atheism       0.72      0.72      0.72       319\n",
            "           comp.graphics       0.67      0.74      0.70       389\n",
            " comp.os.ms-windows.misc       0.73      0.73      0.73       394\n",
            "comp.sys.ibm.pc.hardware       0.66      0.68      0.67       392\n",
            "   comp.sys.mac.hardware       0.77      0.77      0.77       385\n",
            "          comp.windows.x       0.80      0.73      0.76       395\n",
            "            misc.forsale       0.79      0.85      0.81       390\n",
            "               rec.autos       0.85      0.85      0.85       396\n",
            "         rec.motorcycles       0.91      0.92      0.91       398\n",
            "      rec.sport.baseball       0.87      0.90      0.88       397\n",
            "        rec.sport.hockey       0.92      0.95      0.93       399\n",
            "               sci.crypt       0.96      0.88      0.92       396\n",
            "         sci.electronics       0.68      0.72      0.70       393\n",
            "                 sci.med       0.84      0.79      0.81       396\n",
            "               sci.space       0.87      0.90      0.88       394\n",
            "  soc.religion.christian       0.80      0.91      0.85       398\n",
            "      talk.politics.guns       0.70      0.86      0.77       364\n",
            "   talk.politics.mideast       0.97      0.83      0.89       376\n",
            "      talk.politics.misc       0.74      0.56      0.64       310\n",
            "      talk.religion.misc       0.66      0.46      0.54       251\n",
            "\n",
            "                accuracy                           0.80      7532\n",
            "               macro avg       0.79      0.79      0.79      7532\n",
            "            weighted avg       0.80      0.80      0.79      7532\n",
            "\n"
          ]
        }
      ]
    },
    {
      "cell_type": "code",
      "source": [],
      "metadata": {
        "id": "a70aOt1m9ksQ"
      },
      "execution_count": null,
      "outputs": []
    }
  ]
}